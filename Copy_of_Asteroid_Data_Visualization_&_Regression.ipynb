{
  "nbformat": 4,
  "nbformat_minor": 0,
  "metadata": {
    "colab": {
      "provenance": [],
      "toc_visible": true
    },
    "kernelspec": {
      "name": "python3",
      "display_name": "Python 3"
    },
    "language_info": {
      "name": "python"
    }
  },
  "cells": [
    {
      "cell_type": "code",
      "execution_count": null,
      "metadata": {
        "id": "f0rzSdX8alhx"
      },
      "outputs": [],
      "source": [
        "# https://gitlab.com/mirsakhawathossain/pha-ml/-/raw/master/Dataset/dataset.csv"
      ]
    },
    {
      "cell_type": "markdown",
      "source": [
        "#Import Library"
      ],
      "metadata": {
        "id": "xKxayVkrzTj5"
      }
    },
    {
      "cell_type": "code",
      "source": [
        "import numpy as np\n",
        "import pandas as pd\n",
        "import matplotlib.pyplot as plt\n",
        "import seaborn as sns\n",
        "\n"
      ],
      "metadata": {
        "id": "YP5wT2VRhDYs"
      },
      "execution_count": null,
      "outputs": []
    },
    {
      "cell_type": "code",
      "source": [
        "'''\n",
        "\n",
        "# Basic Terminology\n",
        "\n",
        "When describing an ellipse\n",
        "\n",
        "a\n",
        "  is the semi-major axis\n",
        "b\n",
        "  is the semi-minor axis\n",
        "  \n",
        "e=1−b2/a2−−−−−−−−√\n",
        "  is the eccenticity of the ellipse\n",
        "the eccentricity of a circle is 0; that of an ellipse is between 0 and 1\n",
        "F1\n",
        " and F2\n",
        " are the foci of the ellipse, located at ±ea\n",
        "With the simple two-body astronomical description of an orbit about the sun\n",
        "\n",
        "orbits are typically bounded (elliptical) or unbounded (hyperbolic)\n",
        "with elipitical orbits, the sun is located at one of the foci\n",
        "an elliptical orbit's perihelion =a∗(1−e)\n",
        " is its point of closest approach to the sun\n",
        "an elliptical orbit's aphelion =a∗(1+e)\n",
        " is its furthest point from the sun\n",
        "an elliptical orbit's period (in years) is related to its semi-major axis (in AU) as p2=a3\n",
        " (Kepler's Third Law)\n",
        "Note that the concept of eccentricity also applies to parabolas (e=1\n",
        ") and hyperbolas (e>1\n",
        ").\n",
        "\n",
        "'''"
      ],
      "metadata": {
        "colab": {
          "base_uri": "https://localhost:8080/"
        },
        "id": "LXuQ8lNsue3i",
        "outputId": "f8ef429c-8377-4ee3-b6a7-37453dbfb315"
      },
      "execution_count": null,
      "outputs": [
        {
          "output_type": "execute_result",
          "data": {
            "text/plain": [
              "\"\\n\\n# Basic Terminology\\n\\nWhen describing an ellipse\\n\\na\\n  is the semi-major axis\\nb\\n  is the semi-minor axis\\n  \\ne=1−b2/a2−−−−−−−−√\\n  is the eccenticity of the ellipse\\nthe eccentricity of a circle is 0; that of an ellipse is between 0 and 1\\nF1\\n and F2\\n are the foci of the ellipse, located at ±ea\\nWith the simple two-body astronomical description of an orbit about the sun\\n\\norbits are typically bounded (elliptical) or unbounded (hyperbolic)\\nwith elipitical orbits, the sun is located at one of the foci\\nan elliptical orbit's perihelion =a∗(1−e)\\n is its point of closest approach to the sun\\nan elliptical orbit's aphelion =a∗(1+e)\\n is its furthest point from the sun\\nan elliptical orbit's period (in years) is related to its semi-major axis (in AU) as p2=a3\\n (Kepler's Third Law)\\nNote that the concept of eccentricity also applies to parabolas (e=1\\n) and hyperbolas (e>1\\n).\\n\\n\""
            ],
            "application/vnd.google.colaboratory.intrinsic+json": {
              "type": "string"
            }
          },
          "metadata": {},
          "execution_count": 2
        }
      ]
    },
    {
      "cell_type": "code",
      "source": [
        "'''\n",
        "If the eccentricity is zero, the curve is a circle; \n",
        "if equal to one, a parabola; if less than one, an ellipse; \n",
        "and if greater than one, a hyperbola.\n",
        "'''"
      ],
      "metadata": {
        "colab": {
          "base_uri": "https://localhost:8080/"
        },
        "id": "Gkgl8cCpue59",
        "outputId": "e358f29c-b385-4a1c-bf52-b9a48ca0ac94"
      },
      "execution_count": null,
      "outputs": [
        {
          "output_type": "execute_result",
          "data": {
            "text/plain": [
              "'\\nIf the eccentricity is zero, the curve is a circle; \\nif equal to one, a parabola; if less than one, an ellipse; \\nand if greater than one, a hyperbola.\\n'"
            ],
            "application/vnd.google.colaboratory.intrinsic+json": {
              "type": "string"
            }
          },
          "metadata": {},
          "execution_count": 3
        }
      ]
    },
    {
      "cell_type": "markdown",
      "source": [
        "# Potentially Hazardous Asteroid Prediction - Regression\n"
      ],
      "metadata": {
        "id": "NiTPfI-FPVhh"
      }
    },
    {
      "cell_type": "code",
      "source": [
        "df = pd.read_csv('https://gitlab.com/mirsakhawathossain/pha-ml/-/raw/master/Dataset/dataset.csv', low_memory=False)"
      ],
      "metadata": {
        "id": "IgMylfidv79l"
      },
      "execution_count": null,
      "outputs": []
    },
    {
      "cell_type": "code",
      "source": [
        "df.columns"
      ],
      "metadata": {
        "colab": {
          "base_uri": "https://localhost:8080/"
        },
        "id": "KAGv_Im1P77c",
        "outputId": "670f9521-b44e-4dc2-f707-cb3a89e22251"
      },
      "execution_count": null,
      "outputs": [
        {
          "output_type": "execute_result",
          "data": {
            "text/plain": [
              "Index(['id', 'spkid', 'full_name', 'pdes', 'name', 'prefix', 'neo', 'pha', 'H',\n",
              "       'diameter', 'albedo', 'diameter_sigma', 'orbit_id', 'epoch',\n",
              "       'epoch_mjd', 'epoch_cal', 'equinox', 'e', 'a', 'q', 'i', 'om', 'w',\n",
              "       'ma', 'ad', 'n', 'tp', 'tp_cal', 'per', 'per_y', 'moid', 'moid_ld',\n",
              "       'sigma_e', 'sigma_a', 'sigma_q', 'sigma_i', 'sigma_om', 'sigma_w',\n",
              "       'sigma_ma', 'sigma_ad', 'sigma_n', 'sigma_tp', 'sigma_per', 'class',\n",
              "       'rms'],\n",
              "      dtype='object')"
            ]
          },
          "metadata": {},
          "execution_count": 5
        }
      ]
    },
    {
      "cell_type": "code",
      "source": [
        "dff = df.copy()"
      ],
      "metadata": {
        "id": "zvymzXQwBAHU"
      },
      "execution_count": null,
      "outputs": []
    },
    {
      "cell_type": "code",
      "source": [
        "dff = dff[['neo', 'pha', 'H',\n",
        "       'diameter', 'albedo', 'e', 'a', 'q', 'i', 'om', 'w',\n",
        "       'ma', 'ad', 'n', 'tp', 'tp_cal', 'per', 'per_y', 'class',\n",
        "       'rms']]"
      ],
      "metadata": {
        "id": "ongVDtC8BDc1"
      },
      "execution_count": null,
      "outputs": []
    },
    {
      "cell_type": "code",
      "source": [
        "dff"
      ],
      "metadata": {
        "colab": {
          "base_uri": "https://localhost:8080/"
        },
        "id": "WUBJ8Bo7Bs-J",
        "outputId": "5e2773ab-11b3-4617-f757-b5cbe2be5d55"
      },
      "execution_count": null,
      "outputs": [
        {
          "output_type": "execute_result",
          "data": {
            "text/plain": [
              "       neo pha       H  diameter  albedo         e         a         q  \\\n",
              "0        N   N   3.400   939.400  0.0900  0.076009  2.769165  2.558684   \n",
              "1        N   N   4.200   545.000  0.1010  0.229972  2.773841  2.135935   \n",
              "2        N   N   5.330   246.596  0.2140  0.256936  2.668285  1.982706   \n",
              "3        N   N   3.000   525.400  0.4228  0.088721  2.361418  2.151909   \n",
              "4        N   N   6.900   106.699  0.2740  0.190913  2.574037  2.082619   \n",
              "...     ..  ..     ...       ...     ...       ...       ...       ...   \n",
              "958519   N   N  17.135       NaN     NaN  0.185919  2.280861  1.856807   \n",
              "958520   N   N  18.500       NaN     NaN  0.282920  2.334910  1.674319   \n",
              "958521   Y   Y  20.400       NaN     NaN  0.662446  2.817152  0.950941   \n",
              "958522   N   N  18.071       NaN     NaN  0.202053  2.373137  1.893638   \n",
              "958523   N   N  18.060       NaN     NaN  0.258348  2.260404  1.676433   \n",
              "\n",
              "                i          om           w          ma        ad         n  \\\n",
              "0       10.594067   80.305531   73.597695   77.372098  2.979647  0.213885   \n",
              "1       34.832932  173.024741  310.202392  144.975675  3.411748  0.213345   \n",
              "2       12.991043  169.851482  248.066193  125.435355  3.353865  0.226129   \n",
              "3        7.141771  103.810804  150.728541   95.861938  2.570926  0.271609   \n",
              "4        5.367427  141.571026  358.648418   17.846343  3.065455  0.238661   \n",
              "...           ...         ...         ...         ...       ...       ...   \n",
              "958519   5.984416  194.229902  195.442802  342.057565  2.704916  0.286125   \n",
              "958520   8.082280  355.248239    5.216223  260.113042  2.995502  0.276248   \n",
              "958521   4.679278  182.982832  234.894852  240.473601  4.683363  0.208444   \n",
              "958522   0.732484  176.499082  198.026527  355.351127  2.852636  0.269600   \n",
              "958523   9.661947  204.512448  148.496988   15.320134  2.844376  0.290018   \n",
              "\n",
              "                  tp        tp_cal          per     per_y class      rms  \n",
              "0       2.458239e+06  2.018043e+07  1683.145703  4.608202   MBA  0.43301  \n",
              "1       2.458321e+06  2.018072e+07  1687.410992  4.619880   MBA  0.35936  \n",
              "2       2.458446e+06  2.018112e+07  1592.013769  4.358696   MBA  0.33848  \n",
              "3       2.458248e+06  2.018051e+07  1325.432763  3.628837   MBA  0.39980  \n",
              "4       2.458926e+06  2.020032e+07  1508.414421  4.129814   MBA  0.52191  \n",
              "...              ...           ...          ...       ...   ...      ...  \n",
              "958519  2.437266e+06  1.960113e+07  1258.191614  3.444741   MBA  0.23839  \n",
              "958520  2.459362e+06  2.021053e+07  1303.177916  3.567907   MBA  0.53633  \n",
              "958521  2.459574e+06  2.021123e+07  1727.085364  4.728502   APO  0.51556  \n",
              "958522  2.441974e+06  1.973102e+07  1335.311579  3.655884   MBA  0.25641  \n",
              "958523  2.443377e+06  1.977082e+07  1241.302609  3.398501   MBA  0.26980  \n",
              "\n",
              "[958524 rows x 20 columns]"
            ],
            "text/html": [
              "\n",
              "  <div id=\"df-b7217db8-be1f-4377-925b-bffa4f5c291c\">\n",
              "    <div class=\"colab-df-container\">\n",
              "      <div>\n",
              "<style scoped>\n",
              "    .dataframe tbody tr th:only-of-type {\n",
              "        vertical-align: middle;\n",
              "    }\n",
              "\n",
              "    .dataframe tbody tr th {\n",
              "        vertical-align: top;\n",
              "    }\n",
              "\n",
              "    .dataframe thead th {\n",
              "        text-align: right;\n",
              "    }\n",
              "</style>\n",
              "<table border=\"1\" class=\"dataframe\">\n",
              "  <thead>\n",
              "    <tr style=\"text-align: right;\">\n",
              "      <th></th>\n",
              "      <th>neo</th>\n",
              "      <th>pha</th>\n",
              "      <th>H</th>\n",
              "      <th>diameter</th>\n",
              "      <th>albedo</th>\n",
              "      <th>e</th>\n",
              "      <th>a</th>\n",
              "      <th>q</th>\n",
              "      <th>i</th>\n",
              "      <th>om</th>\n",
              "      <th>w</th>\n",
              "      <th>ma</th>\n",
              "      <th>ad</th>\n",
              "      <th>n</th>\n",
              "      <th>tp</th>\n",
              "      <th>tp_cal</th>\n",
              "      <th>per</th>\n",
              "      <th>per_y</th>\n",
              "      <th>class</th>\n",
              "      <th>rms</th>\n",
              "    </tr>\n",
              "  </thead>\n",
              "  <tbody>\n",
              "    <tr>\n",
              "      <th>0</th>\n",
              "      <td>N</td>\n",
              "      <td>N</td>\n",
              "      <td>3.400</td>\n",
              "      <td>939.400</td>\n",
              "      <td>0.0900</td>\n",
              "      <td>0.076009</td>\n",
              "      <td>2.769165</td>\n",
              "      <td>2.558684</td>\n",
              "      <td>10.594067</td>\n",
              "      <td>80.305531</td>\n",
              "      <td>73.597695</td>\n",
              "      <td>77.372098</td>\n",
              "      <td>2.979647</td>\n",
              "      <td>0.213885</td>\n",
              "      <td>2.458239e+06</td>\n",
              "      <td>2.018043e+07</td>\n",
              "      <td>1683.145703</td>\n",
              "      <td>4.608202</td>\n",
              "      <td>MBA</td>\n",
              "      <td>0.43301</td>\n",
              "    </tr>\n",
              "    <tr>\n",
              "      <th>1</th>\n",
              "      <td>N</td>\n",
              "      <td>N</td>\n",
              "      <td>4.200</td>\n",
              "      <td>545.000</td>\n",
              "      <td>0.1010</td>\n",
              "      <td>0.229972</td>\n",
              "      <td>2.773841</td>\n",
              "      <td>2.135935</td>\n",
              "      <td>34.832932</td>\n",
              "      <td>173.024741</td>\n",
              "      <td>310.202392</td>\n",
              "      <td>144.975675</td>\n",
              "      <td>3.411748</td>\n",
              "      <td>0.213345</td>\n",
              "      <td>2.458321e+06</td>\n",
              "      <td>2.018072e+07</td>\n",
              "      <td>1687.410992</td>\n",
              "      <td>4.619880</td>\n",
              "      <td>MBA</td>\n",
              "      <td>0.35936</td>\n",
              "    </tr>\n",
              "    <tr>\n",
              "      <th>2</th>\n",
              "      <td>N</td>\n",
              "      <td>N</td>\n",
              "      <td>5.330</td>\n",
              "      <td>246.596</td>\n",
              "      <td>0.2140</td>\n",
              "      <td>0.256936</td>\n",
              "      <td>2.668285</td>\n",
              "      <td>1.982706</td>\n",
              "      <td>12.991043</td>\n",
              "      <td>169.851482</td>\n",
              "      <td>248.066193</td>\n",
              "      <td>125.435355</td>\n",
              "      <td>3.353865</td>\n",
              "      <td>0.226129</td>\n",
              "      <td>2.458446e+06</td>\n",
              "      <td>2.018112e+07</td>\n",
              "      <td>1592.013769</td>\n",
              "      <td>4.358696</td>\n",
              "      <td>MBA</td>\n",
              "      <td>0.33848</td>\n",
              "    </tr>\n",
              "    <tr>\n",
              "      <th>3</th>\n",
              "      <td>N</td>\n",
              "      <td>N</td>\n",
              "      <td>3.000</td>\n",
              "      <td>525.400</td>\n",
              "      <td>0.4228</td>\n",
              "      <td>0.088721</td>\n",
              "      <td>2.361418</td>\n",
              "      <td>2.151909</td>\n",
              "      <td>7.141771</td>\n",
              "      <td>103.810804</td>\n",
              "      <td>150.728541</td>\n",
              "      <td>95.861938</td>\n",
              "      <td>2.570926</td>\n",
              "      <td>0.271609</td>\n",
              "      <td>2.458248e+06</td>\n",
              "      <td>2.018051e+07</td>\n",
              "      <td>1325.432763</td>\n",
              "      <td>3.628837</td>\n",
              "      <td>MBA</td>\n",
              "      <td>0.39980</td>\n",
              "    </tr>\n",
              "    <tr>\n",
              "      <th>4</th>\n",
              "      <td>N</td>\n",
              "      <td>N</td>\n",
              "      <td>6.900</td>\n",
              "      <td>106.699</td>\n",
              "      <td>0.2740</td>\n",
              "      <td>0.190913</td>\n",
              "      <td>2.574037</td>\n",
              "      <td>2.082619</td>\n",
              "      <td>5.367427</td>\n",
              "      <td>141.571026</td>\n",
              "      <td>358.648418</td>\n",
              "      <td>17.846343</td>\n",
              "      <td>3.065455</td>\n",
              "      <td>0.238661</td>\n",
              "      <td>2.458926e+06</td>\n",
              "      <td>2.020032e+07</td>\n",
              "      <td>1508.414421</td>\n",
              "      <td>4.129814</td>\n",
              "      <td>MBA</td>\n",
              "      <td>0.52191</td>\n",
              "    </tr>\n",
              "    <tr>\n",
              "      <th>...</th>\n",
              "      <td>...</td>\n",
              "      <td>...</td>\n",
              "      <td>...</td>\n",
              "      <td>...</td>\n",
              "      <td>...</td>\n",
              "      <td>...</td>\n",
              "      <td>...</td>\n",
              "      <td>...</td>\n",
              "      <td>...</td>\n",
              "      <td>...</td>\n",
              "      <td>...</td>\n",
              "      <td>...</td>\n",
              "      <td>...</td>\n",
              "      <td>...</td>\n",
              "      <td>...</td>\n",
              "      <td>...</td>\n",
              "      <td>...</td>\n",
              "      <td>...</td>\n",
              "      <td>...</td>\n",
              "      <td>...</td>\n",
              "    </tr>\n",
              "    <tr>\n",
              "      <th>958519</th>\n",
              "      <td>N</td>\n",
              "      <td>N</td>\n",
              "      <td>17.135</td>\n",
              "      <td>NaN</td>\n",
              "      <td>NaN</td>\n",
              "      <td>0.185919</td>\n",
              "      <td>2.280861</td>\n",
              "      <td>1.856807</td>\n",
              "      <td>5.984416</td>\n",
              "      <td>194.229902</td>\n",
              "      <td>195.442802</td>\n",
              "      <td>342.057565</td>\n",
              "      <td>2.704916</td>\n",
              "      <td>0.286125</td>\n",
              "      <td>2.437266e+06</td>\n",
              "      <td>1.960113e+07</td>\n",
              "      <td>1258.191614</td>\n",
              "      <td>3.444741</td>\n",
              "      <td>MBA</td>\n",
              "      <td>0.23839</td>\n",
              "    </tr>\n",
              "    <tr>\n",
              "      <th>958520</th>\n",
              "      <td>N</td>\n",
              "      <td>N</td>\n",
              "      <td>18.500</td>\n",
              "      <td>NaN</td>\n",
              "      <td>NaN</td>\n",
              "      <td>0.282920</td>\n",
              "      <td>2.334910</td>\n",
              "      <td>1.674319</td>\n",
              "      <td>8.082280</td>\n",
              "      <td>355.248239</td>\n",
              "      <td>5.216223</td>\n",
              "      <td>260.113042</td>\n",
              "      <td>2.995502</td>\n",
              "      <td>0.276248</td>\n",
              "      <td>2.459362e+06</td>\n",
              "      <td>2.021053e+07</td>\n",
              "      <td>1303.177916</td>\n",
              "      <td>3.567907</td>\n",
              "      <td>MBA</td>\n",
              "      <td>0.53633</td>\n",
              "    </tr>\n",
              "    <tr>\n",
              "      <th>958521</th>\n",
              "      <td>Y</td>\n",
              "      <td>Y</td>\n",
              "      <td>20.400</td>\n",
              "      <td>NaN</td>\n",
              "      <td>NaN</td>\n",
              "      <td>0.662446</td>\n",
              "      <td>2.817152</td>\n",
              "      <td>0.950941</td>\n",
              "      <td>4.679278</td>\n",
              "      <td>182.982832</td>\n",
              "      <td>234.894852</td>\n",
              "      <td>240.473601</td>\n",
              "      <td>4.683363</td>\n",
              "      <td>0.208444</td>\n",
              "      <td>2.459574e+06</td>\n",
              "      <td>2.021123e+07</td>\n",
              "      <td>1727.085364</td>\n",
              "      <td>4.728502</td>\n",
              "      <td>APO</td>\n",
              "      <td>0.51556</td>\n",
              "    </tr>\n",
              "    <tr>\n",
              "      <th>958522</th>\n",
              "      <td>N</td>\n",
              "      <td>N</td>\n",
              "      <td>18.071</td>\n",
              "      <td>NaN</td>\n",
              "      <td>NaN</td>\n",
              "      <td>0.202053</td>\n",
              "      <td>2.373137</td>\n",
              "      <td>1.893638</td>\n",
              "      <td>0.732484</td>\n",
              "      <td>176.499082</td>\n",
              "      <td>198.026527</td>\n",
              "      <td>355.351127</td>\n",
              "      <td>2.852636</td>\n",
              "      <td>0.269600</td>\n",
              "      <td>2.441974e+06</td>\n",
              "      <td>1.973102e+07</td>\n",
              "      <td>1335.311579</td>\n",
              "      <td>3.655884</td>\n",
              "      <td>MBA</td>\n",
              "      <td>0.25641</td>\n",
              "    </tr>\n",
              "    <tr>\n",
              "      <th>958523</th>\n",
              "      <td>N</td>\n",
              "      <td>N</td>\n",
              "      <td>18.060</td>\n",
              "      <td>NaN</td>\n",
              "      <td>NaN</td>\n",
              "      <td>0.258348</td>\n",
              "      <td>2.260404</td>\n",
              "      <td>1.676433</td>\n",
              "      <td>9.661947</td>\n",
              "      <td>204.512448</td>\n",
              "      <td>148.496988</td>\n",
              "      <td>15.320134</td>\n",
              "      <td>2.844376</td>\n",
              "      <td>0.290018</td>\n",
              "      <td>2.443377e+06</td>\n",
              "      <td>1.977082e+07</td>\n",
              "      <td>1241.302609</td>\n",
              "      <td>3.398501</td>\n",
              "      <td>MBA</td>\n",
              "      <td>0.26980</td>\n",
              "    </tr>\n",
              "  </tbody>\n",
              "</table>\n",
              "<p>958524 rows × 20 columns</p>\n",
              "</div>\n",
              "      <button class=\"colab-df-convert\" onclick=\"convertToInteractive('df-b7217db8-be1f-4377-925b-bffa4f5c291c')\"\n",
              "              title=\"Convert this dataframe to an interactive table.\"\n",
              "              style=\"display:none;\">\n",
              "        \n",
              "  <svg xmlns=\"http://www.w3.org/2000/svg\" height=\"24px\"viewBox=\"0 0 24 24\"\n",
              "       width=\"24px\">\n",
              "    <path d=\"M0 0h24v24H0V0z\" fill=\"none\"/>\n",
              "    <path d=\"M18.56 5.44l.94 2.06.94-2.06 2.06-.94-2.06-.94-.94-2.06-.94 2.06-2.06.94zm-11 1L8.5 8.5l.94-2.06 2.06-.94-2.06-.94L8.5 2.5l-.94 2.06-2.06.94zm10 10l.94 2.06.94-2.06 2.06-.94-2.06-.94-.94-2.06-.94 2.06-2.06.94z\"/><path d=\"M17.41 7.96l-1.37-1.37c-.4-.4-.92-.59-1.43-.59-.52 0-1.04.2-1.43.59L10.3 9.45l-7.72 7.72c-.78.78-.78 2.05 0 2.83L4 21.41c.39.39.9.59 1.41.59.51 0 1.02-.2 1.41-.59l7.78-7.78 2.81-2.81c.8-.78.8-2.07 0-2.86zM5.41 20L4 18.59l7.72-7.72 1.47 1.35L5.41 20z\"/>\n",
              "  </svg>\n",
              "      </button>\n",
              "      \n",
              "  <style>\n",
              "    .colab-df-container {\n",
              "      display:flex;\n",
              "      flex-wrap:wrap;\n",
              "      gap: 12px;\n",
              "    }\n",
              "\n",
              "    .colab-df-convert {\n",
              "      background-color: #E8F0FE;\n",
              "      border: none;\n",
              "      border-radius: 50%;\n",
              "      cursor: pointer;\n",
              "      display: none;\n",
              "      fill: #1967D2;\n",
              "      height: 32px;\n",
              "      padding: 0 0 0 0;\n",
              "      width: 32px;\n",
              "    }\n",
              "\n",
              "    .colab-df-convert:hover {\n",
              "      background-color: #E2EBFA;\n",
              "      box-shadow: 0px 1px 2px rgba(60, 64, 67, 0.3), 0px 1px 3px 1px rgba(60, 64, 67, 0.15);\n",
              "      fill: #174EA6;\n",
              "    }\n",
              "\n",
              "    [theme=dark] .colab-df-convert {\n",
              "      background-color: #3B4455;\n",
              "      fill: #D2E3FC;\n",
              "    }\n",
              "\n",
              "    [theme=dark] .colab-df-convert:hover {\n",
              "      background-color: #434B5C;\n",
              "      box-shadow: 0px 1px 3px 1px rgba(0, 0, 0, 0.15);\n",
              "      filter: drop-shadow(0px 1px 2px rgba(0, 0, 0, 0.3));\n",
              "      fill: #FFFFFF;\n",
              "    }\n",
              "  </style>\n",
              "\n",
              "      <script>\n",
              "        const buttonEl =\n",
              "          document.querySelector('#df-b7217db8-be1f-4377-925b-bffa4f5c291c button.colab-df-convert');\n",
              "        buttonEl.style.display =\n",
              "          google.colab.kernel.accessAllowed ? 'block' : 'none';\n",
              "\n",
              "        async function convertToInteractive(key) {\n",
              "          const element = document.querySelector('#df-b7217db8-be1f-4377-925b-bffa4f5c291c');\n",
              "          const dataTable =\n",
              "            await google.colab.kernel.invokeFunction('convertToInteractive',\n",
              "                                                     [key], {});\n",
              "          if (!dataTable) return;\n",
              "\n",
              "          const docLinkHtml = 'Like what you see? Visit the ' +\n",
              "            '<a target=\"_blank\" href=https://colab.research.google.com/notebooks/data_table.ipynb>data table notebook</a>'\n",
              "            + ' to learn more about interactive tables.';\n",
              "          element.innerHTML = '';\n",
              "          dataTable['output_type'] = 'display_data';\n",
              "          await google.colab.output.renderOutput(dataTable, element);\n",
              "          const docLink = document.createElement('div');\n",
              "          docLink.innerHTML = docLinkHtml;\n",
              "          element.appendChild(docLink);\n",
              "        }\n",
              "      </script>\n",
              "    </div>\n",
              "  </div>\n",
              "  "
            ]
          },
          "metadata": {},
          "execution_count": 8
        }
      ]
    },
    {
      "cell_type": "markdown",
      "source": [
        "\n",
        "\n",
        "```\n",
        "\n",
        "Basic Column Definition\n",
        "SPK-ID: Object primary SPK-ID\n",
        "Object ID: Object internal database ID\n",
        "Object fullname: Object full name/designation\n",
        "pdes: Object primary designation\n",
        "name: Object IAU name\n",
        "NEO: Near-Earth Object (NEO) flag\n",
        "PHA: Potentially Hazardous Asteroid (PHA) flag\n",
        "H: Absolute magnitude parameter\n",
        "Diameter: object diameter (from equivalent sphere) km Unit\n",
        "Albedo: Geometric albedo\n",
        "Diameter_sigma: 1-sigma uncertainty in object diameter km Unit\n",
        "Orbit_id: Orbit solution ID\n",
        "Epoch: Epoch of osculation in modified Julian day form\n",
        "Equinox: Equinox of reference frame\n",
        "e: Eccentricity\n",
        "a: Semi-major axis au Unit\n",
        "q: perihelion distance au Unit\n",
        "i: inclination; angle with respect to x-y ecliptic plane\n",
        "tp: Time of perihelion passage TDB Unit\n",
        "moid_ld: Earth Minimum Orbit Intersection Distance au Unit\n",
        "\n",
        "\n",
        " pha [potentially hazardous object] - target variable\n",
        " \n",
        "\n",
        "```\n",
        "\n"
      ],
      "metadata": {
        "id": "r_tx29n2QCHV"
      }
    },
    {
      "cell_type": "code",
      "source": [
        "dff.isnull().sum()"
      ],
      "metadata": {
        "colab": {
          "base_uri": "https://localhost:8080/"
        },
        "id": "lXJCngyTP86L",
        "outputId": "db4c960a-33cf-4ce5-ac9d-d600554ab37b"
      },
      "execution_count": null,
      "outputs": [
        {
          "output_type": "execute_result",
          "data": {
            "text/plain": [
              "neo              4\n",
              "pha          19921\n",
              "H             6263\n",
              "diameter    822315\n",
              "albedo      823421\n",
              "e                0\n",
              "a                0\n",
              "q                0\n",
              "i                0\n",
              "om               0\n",
              "w                0\n",
              "ma               1\n",
              "ad               4\n",
              "n                0\n",
              "tp               0\n",
              "tp_cal           0\n",
              "per              4\n",
              "per_y            1\n",
              "class            0\n",
              "rms              2\n",
              "dtype: int64"
            ]
          },
          "metadata": {},
          "execution_count": 9
        }
      ]
    },
    {
      "cell_type": "code",
      "source": [],
      "metadata": {
        "id": "htWDrlFiQhy_"
      },
      "execution_count": null,
      "outputs": []
    },
    {
      "cell_type": "code",
      "source": [
        "dff[dff['pha'] == 'Y'].isnull().sum()"
      ],
      "metadata": {
        "colab": {
          "base_uri": "https://localhost:8080/"
        },
        "id": "BhV_ZLPZQmFd",
        "outputId": "05ea7208-83b7-404e-f7e5-a7d409bdfdf1"
      },
      "execution_count": null,
      "outputs": [
        {
          "output_type": "execute_result",
          "data": {
            "text/plain": [
              "neo            0\n",
              "pha            0\n",
              "H              0\n",
              "diameter    1845\n",
              "albedo      1866\n",
              "e              0\n",
              "a              0\n",
              "q              0\n",
              "i              0\n",
              "om             0\n",
              "w              0\n",
              "ma             0\n",
              "ad             0\n",
              "n              0\n",
              "tp             0\n",
              "tp_cal         0\n",
              "per            0\n",
              "per_y          0\n",
              "class          0\n",
              "rms            0\n",
              "dtype: int64"
            ]
          },
          "metadata": {},
          "execution_count": 10
        }
      ]
    },
    {
      "cell_type": "markdown",
      "source": [
        "\n",
        "\n",
        "```\n",
        "since we are not a domain expert of Asteroid and it potential Hazrds, to clean up the data, we have choose to drop the rest of NaN as we do not know how parameters like, diameter, albedo and diameter_sigma effect the model's outcome\n",
        "```\n",
        "\n"
      ],
      "metadata": {
        "id": "mwgI8fN2Q0GR"
      }
    },
    {
      "cell_type": "code",
      "source": [
        "dff = dff.dropna()"
      ],
      "metadata": {
        "id": "9v9xIVi5Q4In"
      },
      "execution_count": null,
      "outputs": []
    },
    {
      "cell_type": "code",
      "source": [
        "dff.head()"
      ],
      "metadata": {
        "colab": {
          "base_uri": "https://localhost:8080/"
        },
        "id": "PcTDSFRzQ7zq",
        "outputId": "85897f74-5de0-4edd-aeee-79e6658b3765"
      },
      "execution_count": null,
      "outputs": [
        {
          "output_type": "execute_result",
          "data": {
            "text/plain": [
              "  neo pha     H  diameter  albedo         e         a         q          i  \\\n",
              "0   N   N  3.40   939.400  0.0900  0.076009  2.769165  2.558684  10.594067   \n",
              "1   N   N  4.20   545.000  0.1010  0.229972  2.773841  2.135935  34.832932   \n",
              "2   N   N  5.33   246.596  0.2140  0.256936  2.668285  1.982706  12.991043   \n",
              "3   N   N  3.00   525.400  0.4228  0.088721  2.361418  2.151909   7.141771   \n",
              "4   N   N  6.90   106.699  0.2740  0.190913  2.574037  2.082619   5.367427   \n",
              "\n",
              "           om           w          ma        ad         n            tp  \\\n",
              "0   80.305531   73.597695   77.372098  2.979647  0.213885  2.458239e+06   \n",
              "1  173.024741  310.202392  144.975675  3.411748  0.213345  2.458321e+06   \n",
              "2  169.851482  248.066193  125.435355  3.353865  0.226129  2.458446e+06   \n",
              "3  103.810804  150.728541   95.861938  2.570926  0.271609  2.458248e+06   \n",
              "4  141.571026  358.648418   17.846343  3.065455  0.238661  2.458926e+06   \n",
              "\n",
              "         tp_cal          per     per_y class      rms  \n",
              "0  2.018043e+07  1683.145703  4.608202   MBA  0.43301  \n",
              "1  2.018072e+07  1687.410992  4.619880   MBA  0.35936  \n",
              "2  2.018112e+07  1592.013769  4.358696   MBA  0.33848  \n",
              "3  2.018051e+07  1325.432763  3.628837   MBA  0.39980  \n",
              "4  2.020032e+07  1508.414421  4.129814   MBA  0.52191  "
            ],
            "text/html": [
              "\n",
              "  <div id=\"df-3bbd7129-c795-41ec-988c-8a3527563f2c\">\n",
              "    <div class=\"colab-df-container\">\n",
              "      <div>\n",
              "<style scoped>\n",
              "    .dataframe tbody tr th:only-of-type {\n",
              "        vertical-align: middle;\n",
              "    }\n",
              "\n",
              "    .dataframe tbody tr th {\n",
              "        vertical-align: top;\n",
              "    }\n",
              "\n",
              "    .dataframe thead th {\n",
              "        text-align: right;\n",
              "    }\n",
              "</style>\n",
              "<table border=\"1\" class=\"dataframe\">\n",
              "  <thead>\n",
              "    <tr style=\"text-align: right;\">\n",
              "      <th></th>\n",
              "      <th>neo</th>\n",
              "      <th>pha</th>\n",
              "      <th>H</th>\n",
              "      <th>diameter</th>\n",
              "      <th>albedo</th>\n",
              "      <th>e</th>\n",
              "      <th>a</th>\n",
              "      <th>q</th>\n",
              "      <th>i</th>\n",
              "      <th>om</th>\n",
              "      <th>w</th>\n",
              "      <th>ma</th>\n",
              "      <th>ad</th>\n",
              "      <th>n</th>\n",
              "      <th>tp</th>\n",
              "      <th>tp_cal</th>\n",
              "      <th>per</th>\n",
              "      <th>per_y</th>\n",
              "      <th>class</th>\n",
              "      <th>rms</th>\n",
              "    </tr>\n",
              "  </thead>\n",
              "  <tbody>\n",
              "    <tr>\n",
              "      <th>0</th>\n",
              "      <td>N</td>\n",
              "      <td>N</td>\n",
              "      <td>3.40</td>\n",
              "      <td>939.400</td>\n",
              "      <td>0.0900</td>\n",
              "      <td>0.076009</td>\n",
              "      <td>2.769165</td>\n",
              "      <td>2.558684</td>\n",
              "      <td>10.594067</td>\n",
              "      <td>80.305531</td>\n",
              "      <td>73.597695</td>\n",
              "      <td>77.372098</td>\n",
              "      <td>2.979647</td>\n",
              "      <td>0.213885</td>\n",
              "      <td>2.458239e+06</td>\n",
              "      <td>2.018043e+07</td>\n",
              "      <td>1683.145703</td>\n",
              "      <td>4.608202</td>\n",
              "      <td>MBA</td>\n",
              "      <td>0.43301</td>\n",
              "    </tr>\n",
              "    <tr>\n",
              "      <th>1</th>\n",
              "      <td>N</td>\n",
              "      <td>N</td>\n",
              "      <td>4.20</td>\n",
              "      <td>545.000</td>\n",
              "      <td>0.1010</td>\n",
              "      <td>0.229972</td>\n",
              "      <td>2.773841</td>\n",
              "      <td>2.135935</td>\n",
              "      <td>34.832932</td>\n",
              "      <td>173.024741</td>\n",
              "      <td>310.202392</td>\n",
              "      <td>144.975675</td>\n",
              "      <td>3.411748</td>\n",
              "      <td>0.213345</td>\n",
              "      <td>2.458321e+06</td>\n",
              "      <td>2.018072e+07</td>\n",
              "      <td>1687.410992</td>\n",
              "      <td>4.619880</td>\n",
              "      <td>MBA</td>\n",
              "      <td>0.35936</td>\n",
              "    </tr>\n",
              "    <tr>\n",
              "      <th>2</th>\n",
              "      <td>N</td>\n",
              "      <td>N</td>\n",
              "      <td>5.33</td>\n",
              "      <td>246.596</td>\n",
              "      <td>0.2140</td>\n",
              "      <td>0.256936</td>\n",
              "      <td>2.668285</td>\n",
              "      <td>1.982706</td>\n",
              "      <td>12.991043</td>\n",
              "      <td>169.851482</td>\n",
              "      <td>248.066193</td>\n",
              "      <td>125.435355</td>\n",
              "      <td>3.353865</td>\n",
              "      <td>0.226129</td>\n",
              "      <td>2.458446e+06</td>\n",
              "      <td>2.018112e+07</td>\n",
              "      <td>1592.013769</td>\n",
              "      <td>4.358696</td>\n",
              "      <td>MBA</td>\n",
              "      <td>0.33848</td>\n",
              "    </tr>\n",
              "    <tr>\n",
              "      <th>3</th>\n",
              "      <td>N</td>\n",
              "      <td>N</td>\n",
              "      <td>3.00</td>\n",
              "      <td>525.400</td>\n",
              "      <td>0.4228</td>\n",
              "      <td>0.088721</td>\n",
              "      <td>2.361418</td>\n",
              "      <td>2.151909</td>\n",
              "      <td>7.141771</td>\n",
              "      <td>103.810804</td>\n",
              "      <td>150.728541</td>\n",
              "      <td>95.861938</td>\n",
              "      <td>2.570926</td>\n",
              "      <td>0.271609</td>\n",
              "      <td>2.458248e+06</td>\n",
              "      <td>2.018051e+07</td>\n",
              "      <td>1325.432763</td>\n",
              "      <td>3.628837</td>\n",
              "      <td>MBA</td>\n",
              "      <td>0.39980</td>\n",
              "    </tr>\n",
              "    <tr>\n",
              "      <th>4</th>\n",
              "      <td>N</td>\n",
              "      <td>N</td>\n",
              "      <td>6.90</td>\n",
              "      <td>106.699</td>\n",
              "      <td>0.2740</td>\n",
              "      <td>0.190913</td>\n",
              "      <td>2.574037</td>\n",
              "      <td>2.082619</td>\n",
              "      <td>5.367427</td>\n",
              "      <td>141.571026</td>\n",
              "      <td>358.648418</td>\n",
              "      <td>17.846343</td>\n",
              "      <td>3.065455</td>\n",
              "      <td>0.238661</td>\n",
              "      <td>2.458926e+06</td>\n",
              "      <td>2.020032e+07</td>\n",
              "      <td>1508.414421</td>\n",
              "      <td>4.129814</td>\n",
              "      <td>MBA</td>\n",
              "      <td>0.52191</td>\n",
              "    </tr>\n",
              "  </tbody>\n",
              "</table>\n",
              "</div>\n",
              "      <button class=\"colab-df-convert\" onclick=\"convertToInteractive('df-3bbd7129-c795-41ec-988c-8a3527563f2c')\"\n",
              "              title=\"Convert this dataframe to an interactive table.\"\n",
              "              style=\"display:none;\">\n",
              "        \n",
              "  <svg xmlns=\"http://www.w3.org/2000/svg\" height=\"24px\"viewBox=\"0 0 24 24\"\n",
              "       width=\"24px\">\n",
              "    <path d=\"M0 0h24v24H0V0z\" fill=\"none\"/>\n",
              "    <path d=\"M18.56 5.44l.94 2.06.94-2.06 2.06-.94-2.06-.94-.94-2.06-.94 2.06-2.06.94zm-11 1L8.5 8.5l.94-2.06 2.06-.94-2.06-.94L8.5 2.5l-.94 2.06-2.06.94zm10 10l.94 2.06.94-2.06 2.06-.94-2.06-.94-.94-2.06-.94 2.06-2.06.94z\"/><path d=\"M17.41 7.96l-1.37-1.37c-.4-.4-.92-.59-1.43-.59-.52 0-1.04.2-1.43.59L10.3 9.45l-7.72 7.72c-.78.78-.78 2.05 0 2.83L4 21.41c.39.39.9.59 1.41.59.51 0 1.02-.2 1.41-.59l7.78-7.78 2.81-2.81c.8-.78.8-2.07 0-2.86zM5.41 20L4 18.59l7.72-7.72 1.47 1.35L5.41 20z\"/>\n",
              "  </svg>\n",
              "      </button>\n",
              "      \n",
              "  <style>\n",
              "    .colab-df-container {\n",
              "      display:flex;\n",
              "      flex-wrap:wrap;\n",
              "      gap: 12px;\n",
              "    }\n",
              "\n",
              "    .colab-df-convert {\n",
              "      background-color: #E8F0FE;\n",
              "      border: none;\n",
              "      border-radius: 50%;\n",
              "      cursor: pointer;\n",
              "      display: none;\n",
              "      fill: #1967D2;\n",
              "      height: 32px;\n",
              "      padding: 0 0 0 0;\n",
              "      width: 32px;\n",
              "    }\n",
              "\n",
              "    .colab-df-convert:hover {\n",
              "      background-color: #E2EBFA;\n",
              "      box-shadow: 0px 1px 2px rgba(60, 64, 67, 0.3), 0px 1px 3px 1px rgba(60, 64, 67, 0.15);\n",
              "      fill: #174EA6;\n",
              "    }\n",
              "\n",
              "    [theme=dark] .colab-df-convert {\n",
              "      background-color: #3B4455;\n",
              "      fill: #D2E3FC;\n",
              "    }\n",
              "\n",
              "    [theme=dark] .colab-df-convert:hover {\n",
              "      background-color: #434B5C;\n",
              "      box-shadow: 0px 1px 3px 1px rgba(0, 0, 0, 0.15);\n",
              "      filter: drop-shadow(0px 1px 2px rgba(0, 0, 0, 0.3));\n",
              "      fill: #FFFFFF;\n",
              "    }\n",
              "  </style>\n",
              "\n",
              "      <script>\n",
              "        const buttonEl =\n",
              "          document.querySelector('#df-3bbd7129-c795-41ec-988c-8a3527563f2c button.colab-df-convert');\n",
              "        buttonEl.style.display =\n",
              "          google.colab.kernel.accessAllowed ? 'block' : 'none';\n",
              "\n",
              "        async function convertToInteractive(key) {\n",
              "          const element = document.querySelector('#df-3bbd7129-c795-41ec-988c-8a3527563f2c');\n",
              "          const dataTable =\n",
              "            await google.colab.kernel.invokeFunction('convertToInteractive',\n",
              "                                                     [key], {});\n",
              "          if (!dataTable) return;\n",
              "\n",
              "          const docLinkHtml = 'Like what you see? Visit the ' +\n",
              "            '<a target=\"_blank\" href=https://colab.research.google.com/notebooks/data_table.ipynb>data table notebook</a>'\n",
              "            + ' to learn more about interactive tables.';\n",
              "          element.innerHTML = '';\n",
              "          dataTable['output_type'] = 'display_data';\n",
              "          await google.colab.output.renderOutput(dataTable, element);\n",
              "          const docLink = document.createElement('div');\n",
              "          docLink.innerHTML = docLinkHtml;\n",
              "          element.appendChild(docLink);\n",
              "        }\n",
              "      </script>\n",
              "    </div>\n",
              "  </div>\n",
              "  "
            ]
          },
          "metadata": {},
          "execution_count": 12
        }
      ]
    },
    {
      "cell_type": "code",
      "source": [
        "plt.figure(figsize=(20,10))\n",
        "plt.title('Count of Potentially Hazardous Asteroid (PHA) flag')\n",
        "sns.countplot(data=dff, x='pha');"
      ],
      "metadata": {
        "colab": {
          "base_uri": "https://localhost:8080/"
        },
        "id": "ab-RaEkFQ_Jn",
        "outputId": "4573d0c9-e639-4b55-de4d-6bb24ae37af1"
      },
      "execution_count": null,
      "outputs": [
        {
          "output_type": "display_data",
          "data": {
            "text/plain": [
              "<Figure size 1440x720 with 1 Axes>"
            ],
            "image/png": "[encoded data removed]"
          },
          "metadata": {
            "needs_background": "light"
          }
        }
      ]
    },
    {
      "cell_type": "code",
      "source": [
        "len(dff[dff['pha']=='N'])"
      ],
      "metadata": {
        "colab": {
          "base_uri": "https://localhost:8080/"
        },
        "id": "iHh8dCUQROBs",
        "outputId": "c22ae42f-2109-431e-9462-8b8f5e230e9a"
      },
      "execution_count": null,
      "outputs": [
        {
          "output_type": "execute_result",
          "data": {
            "text/plain": [
              "131040"
            ]
          },
          "metadata": {},
          "execution_count": 14
        }
      ]
    },
    {
      "cell_type": "code",
      "source": [
        "len(dff[dff['pha']=='Y'])"
      ],
      "metadata": {
        "colab": {
          "base_uri": "https://localhost:8080/"
        },
        "id": "ItJ5MH7KRUaC",
        "outputId": "41e7303f-483a-4cea-cc54-b15808fb45e5"
      },
      "execution_count": null,
      "outputs": [
        {
          "output_type": "execute_result",
          "data": {
            "text/plain": [
              "197"
            ]
          },
          "metadata": {},
          "execution_count": 15
        }
      ]
    },
    {
      "cell_type": "code",
      "source": [
        "len(dff[dff['pha'] == 'Y'])/ len(dff[dff['pha'] == 'N']) * 100"
      ],
      "metadata": {
        "colab": {
          "base_uri": "https://localhost:8080/"
        },
        "id": "KpzDcUt9RkF_",
        "outputId": "6791a5a0-d7f6-4824-e97f-9c092b307322"
      },
      "execution_count": null,
      "outputs": [
        {
          "output_type": "execute_result",
          "data": {
            "text/plain": [
              "0.15033577533577536"
            ]
          },
          "metadata": {},
          "execution_count": 16
        }
      ]
    },
    {
      "cell_type": "markdown",
      "source": [
        "# beak"
      ],
      "metadata": {
        "id": "t3GFcmWzCvUx"
      }
    },
    {
      "cell_type": "code",
      "source": [
        "dff['pha'] = dff['pha'].map({'Y':1,'N':0})"
      ],
      "metadata": {
        "colab": {
          "base_uri": "https://localhost:8080/"
        },
        "id": "T1mKNOuxCo1w",
        "outputId": "4d2623a9-fc70-401c-ba8c-43ef8f094342"
      },
      "execution_count": null,
      "outputs": [
        {
          "output_type": "stream",
          "name": "stderr",
          "text": [
            "<ipython-input-17-0645140aba7e>:1: SettingWithCopyWarning: \n",
            "A value is trying to be set on a copy of a slice from a DataFrame.\n",
            "Try using .loc[row_indexer,col_indexer] = value instead\n",
            "\n",
            "See the caveats in the documentation: https://pandas.pydata.org/pandas-docs/stable/user_guide/indexing.html#returning-a-view-versus-a-copy\n",
            "  dff['pha'] = dff['pha'].map({'Y':1,'N':0})\n"
          ]
        }
      ]
    },
    {
      "cell_type": "code",
      "source": [
        "dff= pd.get_dummies(dff)"
      ],
      "metadata": {
        "id": "HDj6DNVO8792"
      },
      "execution_count": null,
      "outputs": []
    },
    {
      "cell_type": "code",
      "source": [
        "dff.columns"
      ],
      "metadata": {
        "colab": {
          "base_uri": "https://localhost:8080/"
        },
        "id": "d7KqZmNTCSXy",
        "outputId": "da56edd9-7058-43f0-b44f-39dd92539dc7"
      },
      "execution_count": null,
      "outputs": [
        {
          "output_type": "execute_result",
          "data": {
            "text/plain": [
              "Index(['pha', 'H', 'diameter', 'albedo', 'e', 'a', 'q', 'i', 'om', 'w', 'ma',\n",
              "       'ad', 'n', 'tp', 'tp_cal', 'per', 'per_y', 'rms', 'neo_N', 'neo_Y',\n",
              "       'class_AMO', 'class_APO', 'class_AST', 'class_ATE', 'class_CEN',\n",
              "       'class_IMB', 'class_MBA', 'class_MCA', 'class_OMB', 'class_TJN',\n",
              "       'class_TNO'],\n",
              "      dtype='object')"
            ]
          },
          "metadata": {},
          "execution_count": 19
        }
      ]
    },
    {
      "cell_type": "markdown",
      "source": [
        "# Feature Selection RFE"
      ],
      "metadata": {
        "id": "gecO9DkW4enz"
      }
    },
    {
      "cell_type": "code",
      "source": [
        "from sklearn.linear_model import LogisticRegression\n",
        "from sklearn.feature_selection import RFE\n",
        "\n",
        "cols = ['H', 'diameter', 'albedo', 'e', 'a', 'q', 'i', 'om', 'w', 'ma',\n",
        "       'ad', 'n', 'tp', 'tp_cal', 'per', 'per_y', 'rms', 'neo_N', 'neo_Y',\n",
        "       'class_AMO', 'class_APO', 'class_AST', 'class_ATE', 'class_CEN',\n",
        "       'class_IMB', 'class_MBA', 'class_MCA', 'class_OMB', 'class_TJN',\n",
        "       'class_TNO']\n",
        "X = dff[cols]\n",
        "y = dff['pha']\n",
        "# Build a logreg and compute the feature importances\n",
        "model = LogisticRegression()\n",
        "# create the RFE model and select 10 attributes\n",
        "rfe = RFE(model,n_features_to_select=10)\n",
        "rfe = rfe.fit(X, y)\n",
        "# summarize the selection of the attributes\n",
        "print('Selected features: %s' % list(X.columns[rfe.support_]))"
      ],
      "metadata": {
        "colab": {
          "base_uri": "https://localhost:8080/"
        },
        "id": "hZD8YufC4aj-",
        "outputId": "bccd47c1-67e4-4a9b-a519-01d084400ef5"
      },
      "execution_count": null,
      "outputs": [
        {
          "output_type": "stream",
          "name": "stdout",
          "text": [
            "Selected features: ['H', 'diameter', 'q', 'i', 'w', 'ma', 'tp', 'tp_cal', 'per', 'per_y']\n"
          ]
        }
      ]
    },
    {
      "cell_type": "code",
      "source": [],
      "metadata": {
        "id": "1TtNPLMFXFzL"
      },
      "execution_count": null,
      "outputs": []
    },
    {
      "cell_type": "code",
      "source": [
        "dff= dff[['H', 'diameter', 'q', 'i', 'w', 'ma', 'tp', 'tp_cal', 'per', 'per_y']]"
      ],
      "metadata": {
        "id": "YALfzKuRELlm"
      },
      "execution_count": null,
      "outputs": []
    },
    {
      "cell_type": "code",
      "source": [
        "dff.info()"
      ],
      "metadata": {
        "colab": {
          "base_uri": "https://localhost:8080/"
        },
        "id": "p_uzDGL4SED4",
        "outputId": "f1329d18-3434-4795-d07a-2803fae1aded"
      },
      "execution_count": null,
      "outputs": [
        {
          "output_type": "stream",
          "name": "stdout",
          "text": [
            "<class 'pandas.core.frame.DataFrame'>\n",
            "Int64Index: 131237 entries, 0 to 909489\n",
            "Data columns (total 10 columns):\n",
            " #   Column    Non-Null Count   Dtype  \n",
            "---  ------    --------------   -----  \n",
            " 0   H         131237 non-null  float64\n",
            " 1   diameter  131237 non-null  float64\n",
            " 2   q         131237 non-null  float64\n",
            " 3   i         131237 non-null  float64\n",
            " 4   w         131237 non-null  float64\n",
            " 5   ma        131237 non-null  float64\n",
            " 6   tp        131237 non-null  float64\n",
            " 7   tp_cal    131237 non-null  float64\n",
            " 8   per       131237 non-null  float64\n",
            " 9   per_y     131237 non-null  float64\n",
            "dtypes: float64(10)\n",
            "memory usage: 11.0 MB\n"
          ]
        }
      ]
    },
    {
      "cell_type": "markdown",
      "source": [
        "\n",
        "\n",
        "```\n",
        "'AMO' : 'Amor',\n",
        "        'APO' : 'Apollo',\n",
        "        'AST' : 'Asteroid (other)',\n",
        "        'ATE' : 'Aten',\n",
        "        'CEN' : 'Centaur',\n",
        "        'HYA' : 'Hyperbolic Asteroid',\n",
        "        'IEO' : 'Atira',\n",
        "        'IMB' : 'Inner Main-belt Asteroid',\n",
        "        'MBA' : 'Main-belt Asteroid',\n",
        "        'MCA' : 'Mars Crossing Asteroid',\n",
        "        'OMB' : 'Outer Main-belt Asteroid',\n",
        "        'TJN' : 'Jupiter Trojan',\n",
        "        'TNO' : 'TransNeptunian Object'\n",
        "```\n",
        "\n"
      ],
      "metadata": {
        "id": "Ea-gRo2rSRzy"
      }
    },
    {
      "cell_type": "code",
      "source": [
        "plt.figure(figsize=(30,20))\n",
        "sns.set(font_scale=2.0)\n",
        "sns.heatmap(data=round(dff.corr(),2), annot=True)"
      ],
      "metadata": {
        "colab": {
          "base_uri": "https://localhost:8080/",
          "height": 835
        },
        "id": "UmVuq0tMSsWp",
        "outputId": "c6685fc0-f882-4f52-d683-630bed7037f2"
      },
      "execution_count": null,
      "outputs": [
        {
          "output_type": "execute_result",
          "data": {
            "text/plain": [
              "<Axes: >"
            ]
          },
          "metadata": {},
          "execution_count": 23
        },
        {
          "output_type": "display_data",
          "data": {
            "text/plain": [
              "<Figure size 2160x1440 with 2 Axes>"
            ],
            "image/png": "[encoded data removed]"
          },
          "metadata": {
            "needs_background": "light"
          }
        }
      ]
    },
    {
      "cell_type": "code",
      "source": [],
      "metadata": {
        "id": "wAbM5YwoTGSf"
      },
      "execution_count": null,
      "outputs": []
    },
    {
      "cell_type": "code",
      "source": [
        "dff.shape"
      ],
      "metadata": {
        "colab": {
          "base_uri": "https://localhost:8080/"
        },
        "id": "hQKzUplATAly",
        "outputId": "b2224ee3-59bb-4925-b874-cf29a7a56e72"
      },
      "execution_count": null,
      "outputs": [
        {
          "output_type": "execute_result",
          "data": {
            "text/plain": [
              "(131237, 10)"
            ]
          },
          "metadata": {},
          "execution_count": 24
        }
      ]
    },
    {
      "cell_type": "code",
      "source": [],
      "metadata": {
        "id": "AyzeRq36TG8A"
      },
      "execution_count": null,
      "outputs": []
    },
    {
      "cell_type": "markdown",
      "source": [],
      "metadata": {
        "id": "YxJ7jOLdTONL"
      }
    },
    {
      "cell_type": "markdown",
      "source": [
        "# Modelling"
      ],
      "metadata": {
        "id": "dorKQdSuTOQv"
      }
    },
    {
      "cell_type": "markdown",
      "source": [
        "**Splitting the data**"
      ],
      "metadata": {
        "id": "2L8-lLuwTUFY"
      }
    },
    {
      "cell_type": "code",
      "source": [
        "X =  dff[['H', 'diameter', 'q', 'i', 'w', 'ma', 'tp', 'tp_cal', 'per', 'per_y']]\n",
        "#y = dff['pha']"
      ],
      "metadata": {
        "id": "oHDe8aDGTSgZ"
      },
      "execution_count": null,
      "outputs": []
    },
    {
      "cell_type": "code",
      "source": [
        "from sklearn.model_selection import train_test_split\n",
        "from sklearn.preprocessing import StandardScaler\n",
        "from sklearn.linear_model import LogisticRegression"
      ],
      "metadata": {
        "id": "BCjA5at0TZ1H"
      },
      "execution_count": null,
      "outputs": []
    },
    {
      "cell_type": "code",
      "source": [
        "X_train, X_test, y_train, y_test = train_test_split(X, y, test_size=0.3, random_state=42)\n"
      ],
      "metadata": {
        "id": "rKeGkUcdz-Pa"
      },
      "execution_count": null,
      "outputs": []
    },
    {
      "cell_type": "markdown",
      "source": [
        "**Scaling the data**"
      ],
      "metadata": {
        "id": "8wCDUI4MTvpg"
      }
    },
    {
      "cell_type": "code",
      "source": [
        "scaler = StandardScaler()\n",
        "X_train = scaler.fit_transform(X_train)\n",
        "X_test = scaler.transform(X_test)"
      ],
      "metadata": {
        "id": "5JoF3sZITkts"
      },
      "execution_count": null,
      "outputs": []
    },
    {
      "cell_type": "markdown",
      "source": [
        "**Fitting the data**"
      ],
      "metadata": {
        "id": "6eA3gYpnURCK"
      }
    },
    {
      "cell_type": "code",
      "source": [
        "classifier = LogisticRegression()"
      ],
      "metadata": {
        "id": "G4H3uEQJTmJE"
      },
      "execution_count": null,
      "outputs": []
    },
    {
      "cell_type": "code",
      "source": [
        "classifier.fit(X_train, y_train)"
      ],
      "metadata": {
        "colab": {
          "base_uri": "https://localhost:8080/",
          "height": 74
        },
        "id": "--6YrWJ30B7G",
        "outputId": "9334dcf5-5229-45aa-b8a9-93e7b1b9c993"
      },
      "execution_count": null,
      "outputs": [
        {
          "output_type": "execute_result",
          "data": {
            "text/plain": [
              "LogisticRegression()"
            ],
            "text/html": [
              "<style>#sk-container-id-1 {color: black;background-color: white;}#sk-container-id-1 pre{padding: 0;}#sk-container-id-1 div.sk-toggleable {background-color: white;}#sk-container-id-1 label.sk-toggleable__label {cursor: pointer;display: block;width: 100%;margin-bottom: 0;padding: 0.3em;box-sizing: border-box;text-align: center;}#sk-container-id-1 label.sk-toggleable__label-arrow:before {content: \"▸\";float: left;margin-right: 0.25em;color: #696969;}#sk-container-id-1 label.sk-toggleable__label-arrow:hover:before {color: black;}#sk-container-id-1 div.sk-estimator:hover label.sk-toggleable__label-arrow:before {color: black;}#sk-container-id-1 div.sk-toggleable__content {max-height: 0;max-width: 0;overflow: hidden;text-align: left;background-color: #f0f8ff;}#sk-container-id-1 div.sk-toggleable__content pre {margin: 0.2em;color: black;border-radius: 0.25em;background-color: #f0f8ff;}#sk-container-id-1 input.sk-toggleable__control:checked~div.sk-toggleable__content {max-height: 200px;max-width: 100%;overflow: auto;}#sk-container-id-1 input.sk-toggleable__control:checked~label.sk-toggleable__label-arrow:before {content: \"▾\";}#sk-container-id-1 div.sk-estimator input.sk-toggleable__control:checked~label.sk-toggleable__label {background-color: #d4ebff;}#sk-container-id-1 div.sk-label input.sk-toggleable__control:checked~label.sk-toggleable__label {background-color: #d4ebff;}#sk-container-id-1 input.sk-hidden--visually {border: 0;clip: rect(1px 1px 1px 1px);clip: rect(1px, 1px, 1px, 1px);height: 1px;margin: -1px;overflow: hidden;padding: 0;position: absolute;width: 1px;}#sk-container-id-1 div.sk-estimator {font-family: monospace;background-color: #f0f8ff;border: 1px dotted black;border-radius: 0.25em;box-sizing: border-box;margin-bottom: 0.5em;}#sk-container-id-1 div.sk-estimator:hover {background-color: #d4ebff;}#sk-container-id-1 div.sk-parallel-item::after {content: \"\";width: 100%;border-bottom: 1px solid gray;flex-grow: 1;}#sk-container-id-1 div.sk-label:hover label.sk-toggleable__label {background-color: #d4ebff;}#sk-container-id-1 div.sk-serial::before {content: \"\";position: absolute;border-left: 1px solid gray;box-sizing: border-box;top: 0;bottom: 0;left: 50%;z-index: 0;}#sk-container-id-1 div.sk-serial {display: flex;flex-direction: column;align-items: center;background-color: white;padding-right: 0.2em;padding-left: 0.2em;position: relative;}#sk-container-id-1 div.sk-item {position: relative;z-index: 1;}#sk-container-id-1 div.sk-parallel {display: flex;align-items: stretch;justify-content: center;background-color: white;position: relative;}#sk-container-id-1 div.sk-item::before, #sk-container-id-1 div.sk-parallel-item::before {content: \"\";position: absolute;border-left: 1px solid gray;box-sizing: border-box;top: 0;bottom: 0;left: 50%;z-index: -1;}#sk-container-id-1 div.sk-parallel-item {display: flex;flex-direction: column;z-index: 1;position: relative;background-color: white;}#sk-container-id-1 div.sk-parallel-item:first-child::after {align-self: flex-end;width: 50%;}#sk-container-id-1 div.sk-parallel-item:last-child::after {align-self: flex-start;width: 50%;}#sk-container-id-1 div.sk-parallel-item:only-child::after {width: 0;}#sk-container-id-1 div.sk-dashed-wrapped {border: 1px dashed gray;margin: 0 0.4em 0.5em 0.4em;box-sizing: border-box;padding-bottom: 0.4em;background-color: white;}#sk-container-id-1 div.sk-label label {font-family: monospace;font-weight: bold;display: inline-block;line-height: 1.2em;}#sk-container-id-1 div.sk-label-container {text-align: center;}#sk-container-id-1 div.sk-container {/* jupyter's `normalize.less` sets `[hidden] { display: none; }` but bootstrap.min.css set `[hidden] { display: none !important; }` so we also need the `!important` here to be able to override the default hidden behavior on the sphinx rendered scikit-learn.org. See: https://github.com/scikit-learn/scikit-learn/issues/21755 */display: inline-block !important;position: relative;}#sk-container-id-1 div.sk-text-repr-fallback {display: none;}</style><div id=\"sk-container-id-1\" class=\"sk-top-container\"><div class=\"sk-text-repr-fallback\"><pre>LogisticRegression()</pre><b>In a Jupyter environment, please rerun this cell to show the HTML representation or trust the notebook. <br />On GitHub, the HTML representation is unable to render, please try loading this page with nbviewer.org.</b></div><div class=\"sk-container\" hidden><div class=\"sk-item\"><div class=\"sk-estimator sk-toggleable\"><input class=\"sk-toggleable__control sk-hidden--visually\" id=\"sk-estimator-id-1\" type=\"checkbox\" checked><label for=\"sk-estimator-id-1\" class=\"sk-toggleable__label sk-toggleable__label-arrow\">LogisticRegression</label><div class=\"sk-toggleable__content\"><pre>LogisticRegression()</pre></div></div></div></div></div>"
            ]
          },
          "metadata": {},
          "execution_count": 31
        }
      ]
    },
    {
      "cell_type": "markdown",
      "source": [
        "**Checking accuracy**"
      ],
      "metadata": {
        "id": "Z9wXVSU7UT4r"
      }
    },
    {
      "cell_type": "code",
      "source": [
        "from sklearn.metrics import accuracy_score"
      ],
      "metadata": {
        "id": "g0qqDwT20FTw"
      },
      "execution_count": null,
      "outputs": []
    },
    {
      "cell_type": "code",
      "source": [
        "train_class = classifier.predict(X_train)\n",
        "print(train_class)"
      ],
      "metadata": {
        "colab": {
          "base_uri": "https://localhost:8080/"
        },
        "id": "ImuBRAWI0Ix2",
        "outputId": "a4eb575c-fa84-4794-9e39-017bfcd30758"
      },
      "execution_count": null,
      "outputs": [
        {
          "output_type": "stream",
          "name": "stdout",
          "text": [
            "[0 0 0 ... 0 0 0]\n"
          ]
        }
      ]
    },
    {
      "cell_type": "code",
      "source": [
        "accuracy = accuracy_score(y_train, train_class)\n",
        "print('Accuracy score: ', accuracy)"
      ],
      "metadata": {
        "colab": {
          "base_uri": "https://localhost:8080/"
        },
        "id": "ItLBVAO_0Meg",
        "outputId": "e9a7e8d2-ef65-4732-8867-85a397456760"
      },
      "execution_count": null,
      "outputs": [
        {
          "output_type": "stream",
          "name": "stdout",
          "text": [
            "Accuracy score:  0.9982800849072008\n"
          ]
        }
      ]
    },
    {
      "cell_type": "code",
      "source": [
        "## Test data\n",
        "test_class = classifier.predict(X_test)\n",
        "print(test_class)"
      ],
      "metadata": {
        "colab": {
          "base_uri": "https://localhost:8080/"
        },
        "id": "w72YnkXJ0Pt0",
        "outputId": "87253e30-c60a-4482-a210-da69cce104af"
      },
      "execution_count": null,
      "outputs": [
        {
          "output_type": "stream",
          "name": "stdout",
          "text": [
            "[0 0 0 ... 0 0 0]\n"
          ]
        }
      ]
    },
    {
      "cell_type": "code",
      "source": [
        "from sklearn.metrics import recall_score, precision_score, f1_score, accuracy_score\n",
        "y_pred = classifier.predict(X_train)\n",
        "\n",
        "# Overfitting Case\n",
        "print('---' * 45)\n",
        "print('Overfitting: \\n')\n",
        "print('Recall Score: {:.2f}'.format(recall_score(y_train, y_pred)))\n",
        "print('Precision Score: {:.2f}'.format(precision_score(y_train, y_pred)))\n",
        "print('F1 Score: {:.2f}'.format(f1_score(y_train, y_pred)))\n",
        "print('Accuracy Score: {:.2f}'.format(accuracy_score(y_train, y_pred)))\n",
        "print('---' * 45)\n",
        "\n"
      ],
      "metadata": {
        "id": "mlFaSuUfTG-P",
        "colab": {
          "base_uri": "https://localhost:8080/"
        },
        "outputId": "8d8df0d2-e94f-4889-855e-37f6ffb6efc1"
      },
      "execution_count": null,
      "outputs": [
        {
          "output_type": "stream",
          "name": "stdout",
          "text": [
            "---------------------------------------------------------------------------------------------------------------------------------------\n",
            "Overfitting: \n",
            "\n",
            "Recall Score: 0.21\n",
            "Precision Score: 0.37\n",
            "F1 Score: 0.27\n",
            "Accuracy Score: 1.00\n",
            "---------------------------------------------------------------------------------------------------------------------------------------\n"
          ]
        }
      ]
    },
    {
      "cell_type": "markdown",
      "source": [
        "# Logistic Regression with ROC AUC curve metrics "
      ],
      "metadata": {
        "id": "SWOw8K13zh1Z"
      }
    },
    {
      "cell_type": "code",
      "source": [
        "from sklearn.model_selection import train_test_split, cross_val_score\n",
        "from sklearn.metrics import accuracy_score, classification_report, precision_score, recall_score \n",
        "from sklearn.metrics import confusion_matrix, precision_recall_curve, roc_curve, auc, log_loss"
      ],
      "metadata": {
        "id": "z8BAxJ6q3OQh"
      },
      "execution_count": null,
      "outputs": []
    },
    {
      "cell_type": "code",
      "source": [
        "logreg = LogisticRegression()\n",
        "logreg.fit(X_train, y_train)\n",
        "y_pred = logreg.predict(X_test)\n",
        "y_pred_proba = logreg.predict_proba(X_test)[:, 1]\n",
        "\n"
      ],
      "metadata": {
        "id": "TihgjqKTTEMK"
      },
      "execution_count": null,
      "outputs": []
    },
    {
      "cell_type": "code",
      "source": [
        "[fpr, tpr, thr] = roc_curve(y_test, y_pred_proba)\n",
        "print('Train/Test split results:')\n",
        "print(logreg.__class__.__name__+\" accuracy is %2.3f\" % accuracy_score(y_test, y_pred))\n",
        "print(logreg.__class__.__name__+\" log_loss is %2.3f\" % log_loss(y_test, y_pred_proba))\n",
        "print(logreg.__class__.__name__+\" auc is %2.3f\" % auc(fpr, tpr))"
      ],
      "metadata": {
        "colab": {
          "base_uri": "https://localhost:8080/"
        },
        "id": "EY0eRvjZ2qWm",
        "outputId": "b5d6d5ef-0c8c-4a52-d148-ecd98f48aaf7"
      },
      "execution_count": null,
      "outputs": [
        {
          "output_type": "stream",
          "name": "stdout",
          "text": [
            "Train/Test split results:\n",
            "LogisticRegression accuracy is 0.998\n",
            "LogisticRegression log_loss is 0.004\n",
            "LogisticRegression auc is 0.999\n"
          ]
        }
      ]
    },
    {
      "cell_type": "code",
      "source": [
        "idx = np.min(np.where(tpr > 0.95)) # index of the first threshold for which the sensibility > 0.95\n",
        "\n",
        "plt.figure()\n",
        "plt.plot(fpr, tpr, color='coral', label='ROC curve (area = %0.3f)' % auc(fpr, tpr))\n",
        "plt.plot([0, 1], [0, 1], 'k--')\n",
        "plt.plot([0,fpr[idx]], [tpr[idx],tpr[idx]], 'k--', color='blue')\n",
        "plt.plot([fpr[idx],fpr[idx]], [0,tpr[idx]], 'k--', color='blue')\n",
        "plt.xlim([0.0, 1.0])\n",
        "plt.ylim([0.0, 1.05])\n",
        "plt.xlabel('False Positive Rate (1 - specificity)', fontsize=14)\n",
        "plt.ylabel('True Positive Rate (recall)', fontsize=14)\n",
        "plt.title('Receiver operating characteristic (ROC) curve')\n",
        "plt.legend(loc=\"lower right\")\n",
        "plt.show()\n",
        "\n",
        "print(\"Using a threshold of %.3f \" % thr[idx] + \"guarantees a sensitivity of %.3f \" % tpr[idx] +  \n",
        "      \"and a specificity of %.3f\" % (1-fpr[idx]) + \n",
        "      \", i.e. a false positive rate of %.2f%%.\" % (np.array(fpr[idx])*100))"
      ],
      "metadata": {
        "colab": {
          "base_uri": "https://localhost:8080/",
          "height": 428
        },
        "id": "W8T6lW5X2t3r",
        "outputId": "75de4853-96a0-43a9-c400-bf54eed86eb4"
      },
      "execution_count": null,
      "outputs": [
        {
          "output_type": "stream",
          "name": "stderr",
          "text": [
            "<ipython-input-40-7bbea496c773>:6: UserWarning: color is redundantly defined by the 'color' keyword argument and the fmt string \"k--\" (-> color='k'). The keyword argument will take precedence.\n",
            "  plt.plot([0,fpr[idx]], [tpr[idx],tpr[idx]], 'k--', color='blue')\n",
            "<ipython-input-40-7bbea496c773>:7: UserWarning: color is redundantly defined by the 'color' keyword argument and the fmt string \"k--\" (-> color='k'). The keyword argument will take precedence.\n",
            "  plt.plot([fpr[idx],fpr[idx]], [0,tpr[idx]], 'k--', color='blue')\n"
          ]
        },
        {
          "output_type": "display_data",
          "data": {
            "text/plain": [
              "<Figure size 432x288 with 1 Axes>"
            ],
            "image/png": "[encoded data removed]"
          },
          "metadata": {}
        },
        {
          "output_type": "stream",
          "name": "stdout",
          "text": [
            "Using a threshold of 0.069 guarantees a sensitivity of 0.967 and a specificity of 0.997, i.e. a false positive rate of 0.26%.\n"
          ]
        }
      ]
    }
  ]
}